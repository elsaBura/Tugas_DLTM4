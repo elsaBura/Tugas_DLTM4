{
  "nbformat": 4,
  "nbformat_minor": 0,
  "metadata": {
    "colab": {
      "provenance": []
    },
    "kernelspec": {
      "name": "python3",
      "display_name": "Python 3"
    },
    "language_info": {
      "name": "python"
    }
  },
  "cells": [
    {
      "cell_type": "code",
      "execution_count": 1,
      "metadata": {
        "colab": {
          "base_uri": "https://localhost:8080/"
        },
        "id": "0UWqa6u_U_u9",
        "outputId": "e719787a-1aa8-429e-8971-6fff58ad910c"
      },
      "outputs": [
        {
          "output_type": "stream",
          "name": "stdout",
          "text": [
            "Downloading dogs-cats-images, 455718914 bytes compressed\n",
            "[==================================================] 455718914 bytes downloaded\n",
            "Downloaded and uncompressed: dogs-cats-images\n",
            "Data source import complete.\n"
          ]
        }
      ],
      "source": [
        "import os\n",
        "import sys\n",
        "from tempfile import NamedTemporaryFile\n",
        "from urllib.request import urlopen\n",
        "from urllib.parse import unquote, urlparse\n",
        "from urllib.error import HTTPError\n",
        "from zipfile import ZipFile\n",
        "import tarfile\n",
        "import shutil\n",
        "\n",
        "CHUNK_SIZE = 40960\n",
        "DATA_SOURCE_MAPPING = 'dogs-cats-images:https%3A%2F%2Fstorage.googleapis.com%2Fkaggle-data-sets%2F22535%2F28903%2Fbundle%2Farchive.zip%3FX-Goog-Algorithm%3DGOOG4-RSA-SHA256%26X-Goog-Credential%3Dgcp-kaggle-com%2540kaggle-161607.iam.gserviceaccount.com%252F20240504%252Fauto%252Fstorage%252Fgoog4_request%26X-Goog-Date%3D20240504T015908Z%26X-Goog-Expires%3D259200%26X-Goog-SignedHeaders%3Dhost%26X-Goog-Signature%3D0fc29988d0bed8c083d5db1eaaff79a544afceff99bbaaa97f86d729ad77a8ed58c88ea5c8c90dad1dfde1348b588223e03b80f33e16641ce202e3c8b428d95ac72dcadb836afe822600a94b2ddc1d51ba95fcaeadfbc442b2d99c22f203bce6851d0acdf24a44f026b42cf73a19eabefcd70ee836feef4c32bd5966cc692c26eedf77cc084ed30cc229843c75147e232fb7498e0481359e6231a34031b7c2b8168ab44e726339277a521f53037033f8f2c6e101c974cb702d3b3a3efd6bf486615bc027dc774d475873da55f28ff4f2850ca68b797e311f4e6c946c2235309bab94fa18f50cd00e37b234a6ba87abe20886b81d43626ff097a6bd5af6648947'\n",
        "\n",
        "KAGGLE_INPUT_PATH='/kaggle/input'\n",
        "KAGGLE_WORKING_PATH='/kaggle/working'\n",
        "KAGGLE_SYMLINK='kaggle'\n",
        "\n",
        "!umount /kaggle/input/ 2> /dev/null\n",
        "shutil.rmtree('/kaggle/input', ignore_errors=True)\n",
        "os.makedirs(KAGGLE_INPUT_PATH, 0o777, exist_ok=True)\n",
        "os.makedirs(KAGGLE_WORKING_PATH, 0o777, exist_ok=True)\n",
        "\n",
        "try:\n",
        "  os.symlink(KAGGLE_INPUT_PATH, os.path.join(\"..\", 'input'), target_is_directory=True)\n",
        "except FileExistsError:\n",
        "  pass\n",
        "try:\n",
        "  os.symlink(KAGGLE_WORKING_PATH, os.path.join(\"..\", 'working'), target_is_directory=True)\n",
        "except FileExistsError:\n",
        "  pass\n",
        "\n",
        "for data_source_mapping in DATA_SOURCE_MAPPING.split(','):\n",
        "    directory, download_url_encoded = data_source_mapping.split(':')\n",
        "    download_url = unquote(download_url_encoded)\n",
        "    filename = urlparse(download_url).path\n",
        "    destination_path = os.path.join(KAGGLE_INPUT_PATH, directory)\n",
        "    try:\n",
        "        with urlopen(download_url) as fileres, NamedTemporaryFile() as tfile:\n",
        "            total_length = fileres.headers['content-length']\n",
        "            print(f'Downloading {directory}, {total_length} bytes compressed')\n",
        "            dl = 0\n",
        "            data = fileres.read(CHUNK_SIZE)\n",
        "            while len(data) > 0:\n",
        "                dl += len(data)\n",
        "                tfile.write(data)\n",
        "                done = int(50 * dl / int(total_length))\n",
        "                sys.stdout.write(f\"\\r[{'=' * done}{' ' * (50-done)}] {dl} bytes downloaded\")\n",
        "                sys.stdout.flush()\n",
        "                data = fileres.read(CHUNK_SIZE)\n",
        "            if filename.endswith('.zip'):\n",
        "              with ZipFile(tfile) as zfile:\n",
        "                zfile.extractall(destination_path)\n",
        "            else:\n",
        "              with tarfile.open(tfile.name) as tarfile:\n",
        "                tarfile.extractall(destination_path)\n",
        "            print(f'\\nDownloaded and uncompressed: {directory}')\n",
        "    except HTTPError as e:\n",
        "        print(f'Failed to load (likely expired) {download_url} to path {destination_path}')\n",
        "        continue\n",
        "    except OSError as e:\n",
        "        print(f'Failed to load {download_url} to path {destination_path}')\n",
        "        continue\n",
        "\n",
        "print('Data source import complete.')\n"
      ]
    },
    {
      "cell_type": "code",
      "source": [
        "# importing libraries\n",
        "import pandas as pd\n",
        "import numpy as np\n",
        "import matplotlib.pyplot as plt\n",
        "import tensorflow as tf\n",
        "import os\n",
        "from tensorflow.keras.preprocessing import image\n",
        "from zipfile import ZipFile"
      ],
      "metadata": {
        "id": "fZ9HP8qgVFbJ"
      },
      "execution_count": 2,
      "outputs": []
    },
    {
      "cell_type": "code",
      "source": [
        "# importing libraries for Deep Learning\n",
        "from tensorflow.keras.models import Sequential\n",
        "from tensorflow.keras.layers import Conv2D, MaxPooling2D, Flatten, Dense, Dropout, Activation\n",
        "from tensorflow.keras.preprocessing.image import ImageDataGenerator"
      ],
      "metadata": {
        "id": "hLyxbpxjVHQ-"
      },
      "execution_count": 3,
      "outputs": []
    },
    {
      "cell_type": "code",
      "source": [
        "test_dir=\"../input/dogs-cats-images/dog vs cat/dataset/test_set\"\n",
        "train_dir=\"../input/dogs-cats-images/dog vs cat/dataset/training_set\"\n",
        "\n",
        "train_dir_cats = train_dir + '/cats'\n",
        "train_dir_dogs = train_dir + '/dogs'\n",
        "test_dir_cats = test_dir + '/cats'\n",
        "test_dir_dogs = test_dir + '/dogs'"
      ],
      "metadata": {
        "id": "nwE2XXrmVIiF"
      },
      "execution_count": 4,
      "outputs": []
    },
    {
      "cell_type": "code",
      "source": [
        "print('number of cats training images - ',len(os.listdir(train_dir_cats)))\n",
        "print('number of dogs training images - ',len(os.listdir(train_dir_dogs)))\n",
        "print('number of cats testing images - ',len(os.listdir(test_dir_cats)))\n",
        "print('number of dogs testing images - ',len(os.listdir(test_dir_dogs)))"
      ],
      "metadata": {
        "colab": {
          "base_uri": "https://localhost:8080/"
        },
        "id": "lnqcJtz9VKRa",
        "outputId": "3cafab94-515d-4e9f-f963-69569367d3f7"
      },
      "execution_count": 5,
      "outputs": [
        {
          "output_type": "stream",
          "name": "stdout",
          "text": [
            "number of cats training images -  4000\n",
            "number of dogs training images -  4000\n",
            "number of cats testing images -  1000\n",
            "number of dogs testing images -  1000\n"
          ]
        }
      ]
    },
    {
      "cell_type": "code",
      "source": [
        "data_generator = ImageDataGenerator(rescale = 1.0/255.0, zoom_range = 0.2)"
      ],
      "metadata": {
        "id": "Xu2vZT35VMPU"
      },
      "execution_count": 6,
      "outputs": []
    },
    {
      "cell_type": "code",
      "source": [
        "batch_size = 32\n",
        "training_data = data_generator.flow_from_directory(directory = train_dir,\n",
        "                                                   target_size = (64, 64),\n",
        "                                                   batch_size = batch_size,\n",
        "                                                   class_mode = 'binary')\n",
        "testing_data = data_generator.flow_from_directory(directory = test_dir,\n",
        "                                                  target_size = (64, 64),\n",
        "                                                  batch_size = batch_size,\n",
        "                                                  class_mode = 'binary')"
      ],
      "metadata": {
        "colab": {
          "base_uri": "https://localhost:8080/"
        },
        "id": "__hcoYV-VbTS",
        "outputId": "c20fbe75-624f-414c-f37b-89ae15f315a4"
      },
      "execution_count": 7,
      "outputs": [
        {
          "output_type": "stream",
          "name": "stdout",
          "text": [
            "Found 8000 images belonging to 2 classes.\n",
            "Found 2000 images belonging to 2 classes.\n"
          ]
        }
      ]
    },
    {
      "cell_type": "code",
      "source": [
        "# preparing the layers in the Convolutional Deep Neural Network\n",
        "model = Sequential()\n",
        "model.add(Conv2D(filters = 32, kernel_size = (3, 3), activation = 'relu', input_shape = training_data.image_shape))\n",
        "model.add(MaxPooling2D(pool_size = (2, 2)))\n",
        "model.add(Dropout(rate = 0.3))\n",
        "model.add(Conv2D(filters = 64, kernel_size = (3, 3), activation = 'relu'))\n",
        "model.add(MaxPooling2D(pool_size = (2, 2)))\n",
        "model.add(Dropout(rate = 0.2))\n",
        "model.add(Conv2D(filters = 126, kernel_size = (3, 3), activation = 'relu'))\n",
        "model.add(MaxPooling2D(pool_size = (2, 2)))\n",
        "model.add(Dropout(rate = 0.15))\n",
        "model.add(Flatten())\n",
        "model.add(Dense(units = 32, activation = 'relu'))\n",
        "model.add(Dropout(rate = 0.15))\n",
        "model.add(Dense(units = 64, activation = 'relu'))\n",
        "model.add(Dropout(rate = 0.1))\n",
        "model.add(Dense(units = len(set(training_data.classes)), activation = 'softmax'))\n",
        "model.compile(optimizer = 'adam', loss = 'sparse_categorical_crossentropy', metrics = ['accuracy'])"
      ],
      "metadata": {
        "id": "5J3hHF9IVcnV"
      },
      "execution_count": 8,
      "outputs": []
    },
    {
      "cell_type": "code",
      "source": [
        "model.summary()"
      ],
      "metadata": {
        "colab": {
          "base_uri": "https://localhost:8080/"
        },
        "id": "BSH0a_0XVfFU",
        "outputId": "81d60058-0ff9-4e0b-fc0d-0421b3f2bdf8"
      },
      "execution_count": 9,
      "outputs": [
        {
          "output_type": "stream",
          "name": "stdout",
          "text": [
            "Model: \"sequential\"\n",
            "_________________________________________________________________\n",
            " Layer (type)                Output Shape              Param #   \n",
            "=================================================================\n",
            " conv2d (Conv2D)             (None, 62, 62, 32)        896       \n",
            "                                                                 \n",
            " max_pooling2d (MaxPooling2  (None, 31, 31, 32)        0         \n",
            " D)                                                              \n",
            "                                                                 \n",
            " dropout (Dropout)           (None, 31, 31, 32)        0         \n",
            "                                                                 \n",
            " conv2d_1 (Conv2D)           (None, 29, 29, 64)        18496     \n",
            "                                                                 \n",
            " max_pooling2d_1 (MaxPoolin  (None, 14, 14, 64)        0         \n",
            " g2D)                                                            \n",
            "                                                                 \n",
            " dropout_1 (Dropout)         (None, 14, 14, 64)        0         \n",
            "                                                                 \n",
            " conv2d_2 (Conv2D)           (None, 12, 12, 126)       72702     \n",
            "                                                                 \n",
            " max_pooling2d_2 (MaxPoolin  (None, 6, 6, 126)         0         \n",
            " g2D)                                                            \n",
            "                                                                 \n",
            " dropout_2 (Dropout)         (None, 6, 6, 126)         0         \n",
            "                                                                 \n",
            " flatten (Flatten)           (None, 4536)              0         \n",
            "                                                                 \n",
            " dense (Dense)               (None, 32)                145184    \n",
            "                                                                 \n",
            " dropout_3 (Dropout)         (None, 32)                0         \n",
            "                                                                 \n",
            " dense_1 (Dense)             (None, 64)                2112      \n",
            "                                                                 \n",
            " dropout_4 (Dropout)         (None, 64)                0         \n",
            "                                                                 \n",
            " dense_2 (Dense)             (None, 2)                 130       \n",
            "                                                                 \n",
            "=================================================================\n",
            "Total params: 239520 (935.62 KB)\n",
            "Trainable params: 239520 (935.62 KB)\n",
            "Non-trainable params: 0 (0.00 Byte)\n",
            "_________________________________________________________________\n"
          ]
        }
      ]
    },
    {
      "cell_type": "code",
      "source": [
        "fitted_model = model.fit_generator(training_data,\n",
        "                        steps_per_epoch = 100,\n",
        "                        epochs = 50,\n",
        "                        validation_data = testing_data,\n",
        "                        validation_steps = 1000)"
      ],
      "metadata": {
        "colab": {
          "base_uri": "https://localhost:8080/"
        },
        "id": "pn2iHtLaViHL",
        "outputId": "58b162e5-1b73-4f2b-9bfa-d57705bf8fe8"
      },
      "execution_count": 15,
      "outputs": [
        {
          "output_type": "stream",
          "name": "stderr",
          "text": [
            "<ipython-input-15-424c34af333c>:1: UserWarning: `Model.fit_generator` is deprecated and will be removed in a future version. Please use `Model.fit`, which supports generators.\n",
            "  fitted_model = model.fit_generator(training_data,\n"
          ]
        },
        {
          "output_type": "stream",
          "name": "stdout",
          "text": [
            "Epoch 1/50\n",
            "100/100 [==============================] - ETA: 0s - loss: 0.6593 - accuracy: 0.6016"
          ]
        },
        {
          "output_type": "stream",
          "name": "stderr",
          "text": [
            "WARNING:tensorflow:Your input ran out of data; interrupting training. Make sure that your dataset or generator can generate at least `steps_per_epoch * epochs` batches (in this case, 1000 batches). You may need to use the repeat() function when building your dataset.\n"
          ]
        },
        {
          "output_type": "stream",
          "name": "stdout",
          "text": [
            "\b\b\b\b\b\b\b\b\b\b\b\b\b\b\b\b\b\b\b\b\b\b\b\b\b\b\b\b\b\b\b\b\b\b\b\b\b\b\b\b\b\b\b\b\b\b\b\b\b\b\b\b\b\b\b\b\b\b\b\b\b\b\b\b\b\b\b\b\b\b\b\b\b\b\b\b\b\b\b\b\b\b\b\b\r100/100 [==============================] - 39s 386ms/step - loss: 0.6593 - accuracy: 0.6016 - val_loss: 0.6550 - val_accuracy: 0.6115\n",
            "Epoch 2/50\n",
            "100/100 [==============================] - 30s 299ms/step - loss: 0.6505 - accuracy: 0.6203\n",
            "Epoch 3/50\n",
            "100/100 [==============================] - 29s 287ms/step - loss: 0.6170 - accuracy: 0.6534\n",
            "Epoch 4/50\n",
            "100/100 [==============================] - 29s 285ms/step - loss: 0.6158 - accuracy: 0.6656\n",
            "Epoch 5/50\n",
            "100/100 [==============================] - 29s 294ms/step - loss: 0.5937 - accuracy: 0.6744\n",
            "Epoch 6/50\n",
            "100/100 [==============================] - 31s 306ms/step - loss: 0.5842 - accuracy: 0.6834\n",
            "Epoch 7/50\n",
            "100/100 [==============================] - 28s 284ms/step - loss: 0.5700 - accuracy: 0.6888\n",
            "Epoch 8/50\n",
            "100/100 [==============================] - 29s 285ms/step - loss: 0.5484 - accuracy: 0.7141\n",
            "Epoch 9/50\n",
            "100/100 [==============================] - 28s 284ms/step - loss: 0.5519 - accuracy: 0.7194\n",
            "Epoch 10/50\n",
            "100/100 [==============================] - 30s 302ms/step - loss: 0.5458 - accuracy: 0.7272\n",
            "Epoch 11/50\n",
            "100/100 [==============================] - 30s 298ms/step - loss: 0.5428 - accuracy: 0.7181\n",
            "Epoch 12/50\n",
            "100/100 [==============================] - 29s 285ms/step - loss: 0.5279 - accuracy: 0.7337\n",
            "Epoch 13/50\n",
            "100/100 [==============================] - 30s 298ms/step - loss: 0.5261 - accuracy: 0.7331\n",
            "Epoch 14/50\n",
            "100/100 [==============================] - 29s 288ms/step - loss: 0.5062 - accuracy: 0.7528\n",
            "Epoch 15/50\n",
            "100/100 [==============================] - 28s 280ms/step - loss: 0.4983 - accuracy: 0.7478\n",
            "Epoch 16/50\n",
            "100/100 [==============================] - 28s 283ms/step - loss: 0.5064 - accuracy: 0.7484\n",
            "Epoch 17/50\n",
            "100/100 [==============================] - 30s 296ms/step - loss: 0.5016 - accuracy: 0.7569\n",
            "Epoch 18/50\n",
            "100/100 [==============================] - 29s 289ms/step - loss: 0.4713 - accuracy: 0.7769\n",
            "Epoch 19/50\n",
            "100/100 [==============================] - 28s 280ms/step - loss: 0.4761 - accuracy: 0.7791\n",
            "Epoch 20/50\n",
            "100/100 [==============================] - 30s 300ms/step - loss: 0.4727 - accuracy: 0.7788\n",
            "Epoch 21/50\n",
            "100/100 [==============================] - 29s 290ms/step - loss: 0.4539 - accuracy: 0.7825\n",
            "Epoch 22/50\n",
            "100/100 [==============================] - 28s 284ms/step - loss: 0.4400 - accuracy: 0.7987\n",
            "Epoch 23/50\n",
            "100/100 [==============================] - 30s 301ms/step - loss: 0.4454 - accuracy: 0.7866\n",
            "Epoch 24/50\n",
            "100/100 [==============================] - 30s 296ms/step - loss: 0.4515 - accuracy: 0.7894\n",
            "Epoch 25/50\n",
            "100/100 [==============================] - 29s 291ms/step - loss: 0.4221 - accuracy: 0.8134\n",
            "Epoch 26/50\n",
            "100/100 [==============================] - 29s 288ms/step - loss: 0.4433 - accuracy: 0.7897\n",
            "Epoch 27/50\n",
            "100/100 [==============================] - 30s 301ms/step - loss: 0.4355 - accuracy: 0.8025\n",
            "Epoch 28/50\n",
            "100/100 [==============================] - 29s 286ms/step - loss: 0.4165 - accuracy: 0.8081\n",
            "Epoch 29/50\n",
            "100/100 [==============================] - 28s 283ms/step - loss: 0.4140 - accuracy: 0.8156\n",
            "Epoch 30/50\n",
            "100/100 [==============================] - 31s 308ms/step - loss: 0.4063 - accuracy: 0.8125\n",
            "Epoch 31/50\n",
            "100/100 [==============================] - 30s 296ms/step - loss: 0.4035 - accuracy: 0.8100\n",
            "Epoch 32/50\n",
            "100/100 [==============================] - 28s 282ms/step - loss: 0.3904 - accuracy: 0.8203\n",
            "Epoch 33/50\n",
            "100/100 [==============================] - 29s 288ms/step - loss: 0.3960 - accuracy: 0.8159\n",
            "Epoch 34/50\n",
            "100/100 [==============================] - 29s 289ms/step - loss: 0.3856 - accuracy: 0.8231\n",
            "Epoch 35/50\n",
            "100/100 [==============================] - 29s 286ms/step - loss: 0.3829 - accuracy: 0.8359\n",
            "Epoch 36/50\n",
            "100/100 [==============================] - 29s 294ms/step - loss: 0.3777 - accuracy: 0.8322\n",
            "Epoch 37/50\n",
            "100/100 [==============================] - 31s 309ms/step - loss: 0.3767 - accuracy: 0.8247\n",
            "Epoch 38/50\n",
            "100/100 [==============================] - 28s 283ms/step - loss: 0.3677 - accuracy: 0.8344\n",
            "Epoch 39/50\n",
            "100/100 [==============================] - 29s 288ms/step - loss: 0.3869 - accuracy: 0.8241\n",
            "Epoch 40/50\n",
            "100/100 [==============================] - 31s 306ms/step - loss: 0.3675 - accuracy: 0.8359\n",
            "Epoch 41/50\n",
            "100/100 [==============================] - 29s 287ms/step - loss: 0.3680 - accuracy: 0.8356\n",
            "Epoch 42/50\n",
            "100/100 [==============================] - 28s 281ms/step - loss: 0.3584 - accuracy: 0.8363\n",
            "Epoch 43/50\n",
            "100/100 [==============================] - 30s 302ms/step - loss: 0.3583 - accuracy: 0.8347\n",
            "Epoch 44/50\n",
            "100/100 [==============================] - 29s 288ms/step - loss: 0.3542 - accuracy: 0.8453\n",
            "Epoch 45/50\n",
            "100/100 [==============================] - 28s 282ms/step - loss: 0.3443 - accuracy: 0.8491\n",
            "Epoch 46/50\n",
            "100/100 [==============================] - 29s 288ms/step - loss: 0.3419 - accuracy: 0.8450\n",
            "Epoch 47/50\n",
            "100/100 [==============================] - 30s 292ms/step - loss: 0.3632 - accuracy: 0.8334\n",
            "Epoch 48/50\n",
            "100/100 [==============================] - 29s 289ms/step - loss: 0.3560 - accuracy: 0.8409\n",
            "Epoch 49/50\n",
            "100/100 [==============================] - 28s 284ms/step - loss: 0.3296 - accuracy: 0.8609\n",
            "Epoch 50/50\n",
            "100/100 [==============================] - 30s 302ms/step - loss: 0.3386 - accuracy: 0.8525\n"
          ]
        }
      ]
    },
    {
      "cell_type": "code",
      "source": [
        "# plotting accuracy and validation accuracy\n",
        "accuracy = fitted_model.history['accuracy']\n",
        "plt.plot(range(len(accuracy)), accuracy, 'bo', label = 'accuracy')\n",
        "plt.legend()"
      ],
      "metadata": {
        "colab": {
          "base_uri": "https://localhost:8080/",
          "height": 448
        },
        "id": "W9FOX9MkV0oZ",
        "outputId": "3a49916d-1077-411c-90be-2fc2bdf15fa4"
      },
      "execution_count": 16,
      "outputs": [
        {
          "output_type": "execute_result",
          "data": {
            "text/plain": [
              "<matplotlib.legend.Legend at 0x7dcd6df92e60>"
            ]
          },
          "metadata": {},
          "execution_count": 16
        },
        {
          "output_type": "display_data",
          "data": {
            "text/plain": [
              "<Figure size 640x480 with 1 Axes>"
            ],
            "image/png": "[encoded data removed]"
          },
          "metadata": {}
        }
      ]
    }
  ]
}